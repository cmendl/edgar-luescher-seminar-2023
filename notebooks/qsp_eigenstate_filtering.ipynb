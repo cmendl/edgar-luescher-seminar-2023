{
 "cells": [
  {
   "cell_type": "markdown",
   "metadata": {},
   "source": [
    "# Quantum signal processing for eigenstate filtering"
   ]
  },
  {
   "attachments": {},
   "cell_type": "markdown",
   "metadata": {},
   "source": [
    "File based on qib toolbox example, see [here](https://github.com/qc-tum/qib/blob/master/examples/qubitization/qsp_eigenstate_filtering.ipynb).\n",
    "\n",
    "References:\n",
    "- John M. Martyn, Zane M. Rossi, Andrew K. Tan, Isaac L. Chuang  \n",
    "  Grand unification of quantum algorithms  \n",
    "  [PRX Quantum 2, 040203 (2021)](https://doi.org/10.1103/PRXQuantum.2.040203)\n",
    "- Lin Lin, Yu Tong  \n",
    "  Optimal polynomial based quantum eigenstate filtering with application to solving quantum linear systems  \n",
    "  [Quantum 4, 361 (2020)](https://doi.org/10.22331/q-2020-11-11-361)"
   ]
  },
  {
   "cell_type": "code",
   "execution_count": 1,
   "metadata": {},
   "outputs": [],
   "source": [
    "import numpy as np\n",
    "from scipy.linalg import sqrtm, cosm, sinm, expm\n",
    "import matplotlib.pyplot as plt"
   ]
  },
  {
   "cell_type": "code",
   "execution_count": 2,
   "metadata": {},
   "outputs": [],
   "source": [
    "# see https://github.com/qc-tum/qib\n",
    "import qib"
   ]
  },
  {
   "cell_type": "markdown",
   "metadata": {
    "tags": []
   },
   "source": [
    "## Quantum signal processing circuit"
   ]
  },
  {
   "cell_type": "code",
   "execution_count": 3,
   "metadata": {},
   "outputs": [],
   "source": [
    "def S(phi: float, q: qib.field.Qubit):\n",
    "    \"\"\"\n",
    "    Construct the \"signal-processing rotation operator\".\n",
    "    \"\"\"\n",
    "    return qib.RzGate(-2*phi, q)"
   ]
  },
  {
   "cell_type": "code",
   "execution_count": 4,
   "metadata": {},
   "outputs": [],
   "source": [
    "def W(a: float, q: qib.field.Qubit):\n",
    "    \"\"\"\n",
    "    Construct the \"signal rotation operator\".\n",
    "    \"\"\"\n",
    "    return qib.RxGate(-2*np.arccos(a), q)"
   ]
  },
  {
   "cell_type": "code",
   "execution_count": 5,
   "metadata": {},
   "outputs": [],
   "source": [
    "def qsp_circuit(V, phi_list, qaux):\n",
    "    \"\"\"\n",
    "    Construct the quantum signal processing circuit.\n",
    "    \"\"\"\n",
    "    assert len(phi_list) > 0\n",
    "    circuit = qib.Circuit()\n",
    "    circuit.append_gate(S(phi_list[0], qaux))\n",
    "    for phi in phi_list[1:]:\n",
    "        circuit.append_gate(V)\n",
    "        circuit.append_gate(S(phi, qaux))\n",
    "    return circuit"
   ]
  },
  {
   "cell_type": "markdown",
   "metadata": {},
   "source": [
    "## Construct Hamiltonian and block-encoding gate"
   ]
  },
  {
   "cell_type": "code",
   "execution_count": 6,
   "metadata": {},
   "outputs": [],
   "source": [
    "# Pauli operator consisting of weighted Pauli strings\n",
    "H = qib.PauliOperator([\n",
    "    qib.WeightedPauliString(qib.PauliString.from_string(\"III\"),  0.5),\n",
    "    qib.WeightedPauliString(qib.PauliString.from_string(\"XZX\"), -0.08),\n",
    "    qib.WeightedPauliString(qib.PauliString.from_string(\"XYY\"),  0.22),\n",
    "    qib.WeightedPauliString(qib.PauliString.from_string(\"ZIY\"),  0.14),\n",
    "    qib.WeightedPauliString(qib.PauliString.from_string(\"XYZ\"), -0.2)])"
   ]
  },
  {
   "cell_type": "code",
   "execution_count": 7,
   "metadata": {},
   "outputs": [],
   "source": [
    "latt = qib.lattice.IntegerLattice((3,), pbc=False)\n",
    "field_pauli = qib.field.Field(qib.field.ParticleType.QUBIT, latt)\n",
    "H.set_field(field_pauli);"
   ]
  },
  {
   "cell_type": "code",
   "execution_count": 8,
   "metadata": {},
   "outputs": [
    {
     "data": {
      "text/plain": [
       "0.9849691346263317"
      ]
     },
     "execution_count": 8,
     "metadata": {},
     "output_type": "execute_result"
    }
   ],
   "source": [
    "# norm of H must be less or equal to 1\n",
    "np.linalg.norm(H.as_matrix().toarray(), ord=2)"
   ]
  },
  {
   "cell_type": "code",
   "execution_count": 9,
   "metadata": {},
   "outputs": [
    {
     "name": "stdout",
     "output_type": "stream",
     "text": [
      "λ: [0.01503087 0.17503087 0.19196491 0.35196491 0.64803509 0.80803509\n",
      " 0.82496913 0.98496913]\n"
     ]
    },
    {
     "data": {
      "image/png": "[encoded data removed]",
      "text/plain": [
       "<Figure size 640x480 with 1 Axes>"
      ]
     },
     "metadata": {},
     "output_type": "display_data"
    }
   ],
   "source": [
    "# show spectrum\n",
    "Hmat = H.as_matrix().toarray()\n",
    "λ, ψ = np.linalg.eigh(Hmat)\n",
    "print(\"λ:\", λ)\n",
    "plt.plot(λ, \".\")\n",
    "plt.xlabel(r\"$j$\")\n",
    "plt.ylabel(r\"$\\lambda_j$\")\n",
    "plt.title(\"Eigenvalues of Hamiltonian\")\n",
    "plt.show()"
   ]
  },
  {
   "cell_type": "code",
   "execution_count": 10,
   "metadata": {},
   "outputs": [
    {
     "data": {
      "text/plain": [
       "1.2218193627591459e-15"
      ]
     },
     "execution_count": 10,
     "metadata": {},
     "output_type": "execute_result"
    }
   ],
   "source": [
    "# consistency check\n",
    "np.linalg.norm(Hmat - sum(λ[j]*np.outer(ψ[:, j], ψ[:, j].conj()) for j in range(len(λ))))"
   ]
  },
  {
   "cell_type": "code",
   "execution_count": 11,
   "metadata": {},
   "outputs": [],
   "source": [
    "# auxiliary qubit\n",
    "field_aux = qib.field.Field(qib.field.ParticleType.QUBIT,\n",
    "                            qib.lattice.IntegerLattice((1,), pbc=False))\n",
    "qaux = qib.field.Qubit(field_aux, 0)"
   ]
  },
  {
   "cell_type": "code",
   "execution_count": 12,
   "metadata": {},
   "outputs": [
    {
     "data": {
      "text/plain": [
       "4"
      ]
     },
     "execution_count": 12,
     "metadata": {},
     "output_type": "execute_result"
    }
   ],
   "source": [
    "# block-encoding gate; plays the role of the signal operator\n",
    "R = qib.BlockEncodingGate(H, qib.operator.BlockEncodingMethod.R)\n",
    "R.set_auxiliary_qubits([qaux])\n",
    "R.num_wires"
   ]
  },
  {
   "cell_type": "code",
   "execution_count": 13,
   "metadata": {},
   "outputs": [
    {
     "data": {
      "text/plain": [
       "True"
      ]
     },
     "execution_count": 13,
     "metadata": {},
     "output_type": "execute_result"
    }
   ],
   "source": [
    "R.encoded_operator() is H"
   ]
  },
  {
   "cell_type": "markdown",
   "metadata": {},
   "source": [
    "## Filtering function and its QSP approximation"
   ]
  },
  {
   "cell_type": "code",
   "execution_count": 14,
   "metadata": {},
   "outputs": [],
   "source": [
    "def target_filt(x, delta, scale=1):\n",
    "    \"\"\"\n",
    "    Target function for eigenvalue filtering.\n",
    "    \"\"\"\n",
    "    return scale * (np.sign(x + 0.5*delta) - np.sign(x - 0.5*delta)) / 2"
   ]
  },
  {
   "cell_type": "code",
   "execution_count": 15,
   "metadata": {},
   "outputs": [
    {
     "data": {
      "text/plain": [
       "30"
      ]
     },
     "execution_count": 15,
     "metadata": {},
     "output_type": "execute_result"
    }
   ],
   "source": [
    "# approximating polynomial as computed by pyqsp;\n",
    "# note: seems to differ slightly from polynomial proposed in paper by Lin Lin and Yu Tong\n",
    "\n",
    "# import pyqsp\n",
    "# pg = pyqsp.poly.PolyEigenstateFiltering()\n",
    "# pcoeffs, scale = pg.generate(30, 0.3, ensure_bounded=True, return_scale=True)\n",
    "pcoeffs = np.array([\n",
    "    9.000000000000337e-01,  0.0, -7.031620318208381e+01,  0.0,\n",
    "    2.1539623152761696e+03, 0.0, -3.5186888660573706e+04, 0.0,\n",
    "    3.5154605133750144e+05, 0.0, -2.3230789225621773e+06, 0.0,\n",
    "    1.0663078854882404e+07, 0.0, -3.506929672629646e+07,  0.0,\n",
    "    8.418284691465965e+07,  0.0, -1.4871920531343466e+08, 0.0,\n",
    "    1.930761269080084e+08,  0.0, -1.8191063056062633e+08, 0.0,\n",
    "    1.2096262368079624e+08, 0.0, -5.380345137360861e+07,  0.0,\n",
    "    1.436188179406601e+07,  0.0, -1.7393389645274098e+06])\n",
    "poly_filt = np.polynomial.Polynomial(pcoeffs)\n",
    "poly_filt.degree()"
   ]
  },
  {
   "cell_type": "code",
   "execution_count": 16,
   "metadata": {},
   "outputs": [],
   "source": [
    "# corresponding phase angles from Appendix D.8 of \"Grand unification of quantum algorithms\"\n",
    "phi_filt = np.array([\n",
    "    -2.22655153,  2.26982696, -0.76378956,  0.07418111,\n",
    "     0.25458387,  0.5916072,   0.30309002,  0.10101557,\n",
    "    -0.12943648, -1.00141425,  0.60368299, -2.2897962,\n",
    "    -0.04337353,  0.28364185,  2.28161478, -0.61804648,\n",
    "    -0.85997787,  0.28364185, -0.04337353,  0.85179646,\n",
    "     0.60368299, -1.00141425, -0.12943648,  0.10101557,\n",
    "     0.30309002,  0.5916072,   0.25458387,  0.07418111,\n",
    "    -0.76378956, -0.87176569,  2.48583745])"
   ]
  },
  {
   "cell_type": "code",
   "execution_count": 17,
   "metadata": {},
   "outputs": [],
   "source": [
    "circ_filt = lambda a: qsp_circuit(W(a, qaux), phi_filt, qaux)"
   ]
  },
  {
   "cell_type": "code",
   "execution_count": 18,
   "metadata": {},
   "outputs": [],
   "source": [
    "# |+⟩\n",
    "ketp = np.array([1, 1])/np.sqrt(2)"
   ]
  },
  {
   "cell_type": "code",
   "execution_count": 19,
   "metadata": {},
   "outputs": [
    {
     "data": {
      "image/png": "[encoded data removed]",
      "text/plain": [
       "<Figure size 640x480 with 1 Axes>"
      ]
     },
     "metadata": {},
     "output_type": "display_data"
    }
   ],
   "source": [
    "# visualize target function, polynomial approximation and corresponding QSP representation;\n",
    "# reproduces Fig. 23 in \"Grand unification of quantum algorithms\"\n",
    "a_list = np.linspace(-1, 1, 201)\n",
    "plt.plot(a_list, target_filt(a_list, 0.3, scale=0.9), label=\"target function\")\n",
    "plt.plot(a_list, poly_filt(a_list), label=\"polynomial\")\n",
    "plt.plot(a_list, [np.vdot(ketp, circ_filt(a).as_matrix([field_aux]).toarray() @ ketp).real for a in a_list], \"--\", label=r\"$\\mathrm{Re}(\\langle+|U_{\\phi}|+\\rangle)$\")\n",
    "plt.ylim([-0.1, 1])\n",
    "plt.xlabel(r\"$a$\")\n",
    "plt.legend()\n",
    "plt.title(\"QSP approximation of filtering function\")\n",
    "plt.show()"
   ]
  },
  {
   "cell_type": "code",
   "execution_count": 20,
   "metadata": {},
   "outputs": [
    {
     "data": {
      "text/plain": [
       "0.00013479245741976337"
      ]
     },
     "execution_count": 20,
     "metadata": {},
     "output_type": "execute_result"
    }
   ],
   "source": [
    "# QSP polynomial approximation error\n",
    "np.linalg.norm(np.array([np.vdot(ketp, circ_filt(a).as_matrix([field_aux]).toarray() @ ketp).real for a in a_list]) - poly_filt(a_list), np.inf)"
   ]
  },
  {
   "cell_type": "code",
   "execution_count": 21,
   "metadata": {},
   "outputs": [
    {
     "data": {
      "text/plain": [
       "1.0605709348817603e-08"
      ]
     },
     "execution_count": 21,
     "metadata": {},
     "output_type": "execute_result"
    }
   ],
   "source": [
    "# spurious imaginary part in QSP\n",
    "max([abs(np.vdot(ketp, circ_filt(a).as_matrix([field_aux]).toarray() @ ketp).imag) for a in a_list])"
   ]
  },
  {
   "cell_type": "markdown",
   "metadata": {},
   "source": [
    "## Apply eigenstate filtering to Hamiltonian"
   ]
  },
  {
   "cell_type": "code",
   "execution_count": 22,
   "metadata": {},
   "outputs": [
    {
     "data": {
      "image/png": "[encoded data removed]",
      "text/plain": [
       "<Figure size 640x480 with 1 Axes>"
      ]
     },
     "metadata": {},
     "output_type": "display_data"
    }
   ],
   "source": [
    "# visualize filtered eigenvalues\n",
    "plt.plot(poly_filt(λ), \".\")\n",
    "plt.xlabel(r\"$j$\")\n",
    "plt.ylabel(r\"$\\mathrm{poly}(\\lambda_j)$\")\n",
    "plt.title(\"Filtered eigenvalues of Hamiltonian\")\n",
    "plt.show()"
   ]
  },
  {
   "cell_type": "code",
   "execution_count": 23,
   "metadata": {},
   "outputs": [],
   "source": [
    "def convert_phase_shifts(d):\n",
    "    \"\"\"\n",
    "    Phase shifts to convert between different QSP representations.\n",
    "    \"\"\"\n",
    "    return np.array([np.pi/4] + (d-1)*[np.pi/2] + [np.pi/4])"
   ]
  },
  {
   "cell_type": "code",
   "execution_count": 24,
   "metadata": {},
   "outputs": [],
   "source": [
    "# construct quantum circuit\n",
    "circ_hamil_filt = qsp_circuit(R, phi_filt - convert_phase_shifts(len(phi_filt) - 1), qaux)\n",
    "\n",
    "# include global i**d phase factor\n",
    "circ_hamil_filt.append_gate(qib.PhaseFactorGate(0.5*np.pi * ((len(phi_filt)-1) % 4), 1).on(qaux))\n",
    "\n",
    "# appending and prepending Hadamard gates, corresponds to convention <+|U_φ|+>\n",
    "circ_hamil_filt.append_gate( qib.HadamardGate(qaux))\n",
    "circ_hamil_filt.prepend_gate(qib.HadamardGate(qaux))"
   ]
  },
  {
   "cell_type": "code",
   "execution_count": 25,
   "metadata": {},
   "outputs": [],
   "source": [
    "# matrix representation of circuit\n",
    "U_filt = circ_hamil_filt.as_matrix([field_aux, field_pauli]).toarray()"
   ]
  },
  {
   "cell_type": "code",
   "execution_count": 26,
   "metadata": {},
   "outputs": [
    {
     "data": {
      "text/plain": [
       "2.812768419358694e-14"
      ]
     },
     "execution_count": 26,
     "metadata": {},
     "output_type": "execute_result"
    }
   ],
   "source": [
    "# consistency check (should be numerically zero)\n",
    "np.linalg.norm(U_filt[:8, :8] - sum(np.vdot(ketp, circ_filt(λ[j]).as_matrix([field_aux]).toarray() @ ketp) * np.outer(ψ[:, j], ψ[:, j].conj()) for j in range(len(λ))))"
   ]
  },
  {
   "cell_type": "code",
   "execution_count": 27,
   "metadata": {},
   "outputs": [],
   "source": [
    "def symm(a):\n",
    "    \"\"\"\n",
    "    Symmetrize a matrix by projecting it onto the symmetric subspace.\n",
    "    \"\"\"\n",
    "    return 0.5 * (a + a.conj().T)"
   ]
  },
  {
   "cell_type": "code",
   "execution_count": 28,
   "metadata": {},
   "outputs": [
    {
     "data": {
      "text/plain": [
       "2.8175767804396108e-14"
      ]
     },
     "execution_count": 28,
     "metadata": {},
     "output_type": "execute_result"
    }
   ],
   "source": [
    "# consistency check (should be numerically zero)\n",
    "np.linalg.norm(symm(U_filt[:8, :8]) - sum(circ_filt(λ[j]).as_matrix([field_aux]).toarray()[0, 0].real * np.outer(ψ[:, j], ψ[:, j].conj()) for j in range(len(λ))))"
   ]
  },
  {
   "cell_type": "code",
   "execution_count": 29,
   "metadata": {},
   "outputs": [
    {
     "data": {
      "text/plain": [
       "1.1420352226353703e-08"
      ]
     },
     "execution_count": 29,
     "metadata": {},
     "output_type": "execute_result"
    }
   ],
   "source": [
    "# additional error due to spurious imaginary part in QSP\n",
    "np.linalg.norm(U_filt[:8, :8] - sum(circ_filt(λ[j]).as_matrix([field_aux]).toarray()[0, 0].real * np.outer(ψ[:, j], ψ[:, j].conj()) for j in range(len(λ))))"
   ]
  },
  {
   "cell_type": "code",
   "execution_count": 30,
   "metadata": {},
   "outputs": [],
   "source": [
    "# filtering function applied to Hamiltonian: poly_filt(H)\n",
    "H_poly = sum(poly_filt(λ[j]) * np.outer(ψ[:, j], ψ[:, j].conj()) for j in range(len(λ)))"
   ]
  },
  {
   "cell_type": "code",
   "execution_count": 31,
   "metadata": {},
   "outputs": [
    {
     "data": {
      "text/plain": [
       "9.16677683487145e-05"
      ]
     },
     "execution_count": 31,
     "metadata": {},
     "output_type": "execute_result"
    }
   ],
   "source": [
    "# QSP approximation error of poly_filt(H)\n",
    "np.linalg.norm(U_filt[:8, :8] - H_poly, ord=2)"
   ]
  },
  {
   "cell_type": "code",
   "execution_count": 32,
   "metadata": {},
   "outputs": [
    {
     "data": {
      "text/plain": [
       "0.044677590437061356"
      ]
     },
     "execution_count": 32,
     "metadata": {},
     "output_type": "execute_result"
    }
   ],
   "source": [
    "# probability of collapsing to upper-left block when starting from initial state |0,...,0> \n",
    "ψ0filt = U_filt[:8, 0]\n",
    "np.linalg.norm(ψ0filt)**2"
   ]
  },
  {
   "cell_type": "code",
   "execution_count": 33,
   "metadata": {},
   "outputs": [
    {
     "data": {
      "text/plain": [
       "0.9994643174179723"
      ]
     },
     "execution_count": 33,
     "metadata": {},
     "output_type": "execute_result"
    }
   ],
   "source": [
    "# overlap with ground state (after normalization)\n",
    "abs(np.vdot(ψ0filt / np.linalg.norm(ψ0filt), ψ[:, 0]))"
   ]
  },
  {
   "cell_type": "code",
   "execution_count": null,
   "metadata": {},
   "outputs": [],
   "source": []
  }
 ],
 "metadata": {
  "kernelspec": {
   "display_name": "Python 3 (ipykernel)",
   "language": "python",
   "name": "python3"
  },
  "language_info": {
   "codemirror_mode": {
    "name": "ipython",
    "version": 3
   },
   "file_extension": ".py",
   "mimetype": "text/x-python",
   "name": "python",
   "nbconvert_exporter": "python",
   "pygments_lexer": "ipython3",
   "version": "3.10.7"
  }
 },
 "nbformat": 4,
 "nbformat_minor": 4
}
